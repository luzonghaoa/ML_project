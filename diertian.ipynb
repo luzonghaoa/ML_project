{
 "cells": [
  {
   "cell_type": "code",
   "execution_count": 1,
   "metadata": {},
   "outputs": [],
   "source": [
    "import pandas as pd\n",
    "from sklearn.feature_extraction.text import TfidfVectorizer\n",
    "from sklearn.svm import SVC\n",
    "\n",
    "from sklearn.feature_extraction.text import CountVectorizer\n",
    "from sklearn.linear_model import LogisticRegression\n",
    "from sklearn.model_selection import train_test_split\n",
    "from sklearn.feature_extraction import stop_words"
   ]
  },
  {
   "cell_type": "code",
   "execution_count": 2,
   "metadata": {},
   "outputs": [],
   "source": [
    "data = pd.read_csv('Combined_News_DJIA.csv')"
   ]
  },
  {
   "cell_type": "code",
   "execution_count": 10,
   "metadata": {},
   "outputs": [
    {
     "data": {
      "text/plain": [
       "1988"
      ]
     },
     "execution_count": 10,
     "metadata": {},
     "output_type": "execute_result"
    }
   ],
   "source": [
    "slicedData = data.iloc[:1988,2:27]\n",
    "slicedData.replace(to_replace=\"[^a-zA-Z]\", value=\" \", regex=True, inplace=True)\n",
    "wholelines = []\n",
    "for row in range(0,len(slicedData.index)):\n",
    "    wholelines.append(' '.join(str(x) for x in slicedData.iloc[row,0:25]))\n",
    "len(wholelines)"
   ]
  },
  {
   "cell_type": "code",
   "execution_count": 4,
   "metadata": {},
   "outputs": [],
   "source": [
    "label = data.iloc[:,1]"
   ]
  },
  {
   "cell_type": "code",
   "execution_count": 5,
   "metadata": {},
   "outputs": [
    {
     "name": "stdout",
     "output_type": "stream",
     "text": [
      "0       0\n",
      "1       1\n",
      "2       0\n",
      "3       0\n",
      "4       1\n",
      "5       1\n",
      "6       0\n",
      "7       0\n",
      "8       1\n",
      "9       1\n",
      "10      1\n",
      "11      0\n",
      "12      1\n",
      "13      1\n",
      "14      1\n",
      "15      0\n",
      "16      0\n",
      "17      1\n",
      "18      0\n",
      "19      1\n",
      "20      1\n",
      "21      0\n",
      "22      1\n",
      "23      1\n",
      "24      0\n",
      "25      0\n",
      "26      1\n",
      "27      0\n",
      "28      1\n",
      "29      1\n",
      "       ..\n",
      "1959    1\n",
      "1960    0\n",
      "1961    1\n",
      "1962    1\n",
      "1963    0\n",
      "1964    1\n",
      "1965    0\n",
      "1966    1\n",
      "1967    1\n",
      "1968    0\n",
      "1969    1\n",
      "1970    1\n",
      "1971    1\n",
      "1972    0\n",
      "1973    0\n",
      "1974    0\n",
      "1975    0\n",
      "1976    0\n",
      "1977    1\n",
      "1978    0\n",
      "1979    1\n",
      "1980    1\n",
      "1981    0\n",
      "1982    1\n",
      "1983    0\n",
      "1984    0\n",
      "1985    1\n",
      "1986    1\n",
      "1987    1\n",
      "1988    1\n",
      "Name: Label, Length: 1989, dtype: int64\n"
     ]
    }
   ],
   "source": [
    "print(label)"
   ]
  },
  {
   "cell_type": "code",
   "execution_count": 6,
   "metadata": {},
   "outputs": [],
   "source": [
    "label = label.iloc[1:]"
   ]
  },
  {
   "cell_type": "code",
   "execution_count": 7,
   "metadata": {},
   "outputs": [
    {
     "name": "stdout",
     "output_type": "stream",
     "text": [
      "1       1\n",
      "2       0\n",
      "3       0\n",
      "4       1\n",
      "5       1\n",
      "6       0\n",
      "7       0\n",
      "8       1\n",
      "9       1\n",
      "10      1\n",
      "11      0\n",
      "12      1\n",
      "13      1\n",
      "14      1\n",
      "15      0\n",
      "16      0\n",
      "17      1\n",
      "18      0\n",
      "19      1\n",
      "20      1\n",
      "21      0\n",
      "22      1\n",
      "23      1\n",
      "24      0\n",
      "25      0\n",
      "26      1\n",
      "27      0\n",
      "28      1\n",
      "29      1\n",
      "30      0\n",
      "       ..\n",
      "1959    1\n",
      "1960    0\n",
      "1961    1\n",
      "1962    1\n",
      "1963    0\n",
      "1964    1\n",
      "1965    0\n",
      "1966    1\n",
      "1967    1\n",
      "1968    0\n",
      "1969    1\n",
      "1970    1\n",
      "1971    1\n",
      "1972    0\n",
      "1973    0\n",
      "1974    0\n",
      "1975    0\n",
      "1976    0\n",
      "1977    1\n",
      "1978    0\n",
      "1979    1\n",
      "1980    1\n",
      "1981    0\n",
      "1982    1\n",
      "1983    0\n",
      "1984    0\n",
      "1985    1\n",
      "1986    1\n",
      "1987    1\n",
      "1988    1\n",
      "Name: Label, Length: 1988, dtype: int64\n"
     ]
    }
   ],
   "source": [
    "print(label)"
   ]
  },
  {
   "cell_type": "code",
   "execution_count": 11,
   "metadata": {},
   "outputs": [
    {
     "data": {
      "text/plain": [
       "1789"
      ]
     },
     "execution_count": 11,
     "metadata": {},
     "output_type": "execute_result"
    }
   ],
   "source": [
    "X_train, X_test, y_train, y_test = train_test_split(wholelines, label, test_size=.1, random_state=0)\n",
    "len(y_train)"
   ]
  },
  {
   "cell_type": "code",
   "execution_count": 27,
   "metadata": {},
   "outputs": [
    {
     "name": "stdout",
     "output_type": "stream",
     "text": [
      "(1789, 3000)\n",
      "(199, 3000)\n"
     ]
    }
   ],
   "source": [
    "basicvectorizer = TfidfVectorizer(ngram_range=(3,3), stop_words='english',max_features=3000)\n",
    "basictrain = basicvectorizer.fit_transform(X_train)\n",
    "basictest = basicvectorizer.transform(X_test)\n",
    "print(basictrain.shape)\n",
    "print(basictest.shape)"
   ]
  },
  {
   "cell_type": "code",
   "execution_count": 28,
   "metadata": {},
   "outputs": [],
   "source": [
    "clf = SVC(C=0.5,kernel='linear')\n",
    "clf.fit(basictrain, y_train)\n",
    "predictions = clf.predict(basictest)"
   ]
  },
  {
   "cell_type": "code",
   "execution_count": 29,
   "metadata": {},
   "outputs": [
    {
     "data": {
      "text/html": [
       "<div>\n",
       "<style scoped>\n",
       "    .dataframe tbody tr th:only-of-type {\n",
       "        vertical-align: middle;\n",
       "    }\n",
       "\n",
       "    .dataframe tbody tr th {\n",
       "        vertical-align: top;\n",
       "    }\n",
       "\n",
       "    .dataframe thead th {\n",
       "        text-align: right;\n",
       "    }\n",
       "</style>\n",
       "<table border=\"1\" class=\"dataframe\">\n",
       "  <thead>\n",
       "    <tr style=\"text-align: right;\">\n",
       "      <th>Predicted</th>\n",
       "      <th>0</th>\n",
       "      <th>1</th>\n",
       "    </tr>\n",
       "    <tr>\n",
       "      <th>Actual</th>\n",
       "      <th></th>\n",
       "      <th></th>\n",
       "    </tr>\n",
       "  </thead>\n",
       "  <tbody>\n",
       "    <tr>\n",
       "      <th>0</th>\n",
       "      <td>19</td>\n",
       "      <td>71</td>\n",
       "    </tr>\n",
       "    <tr>\n",
       "      <th>1</th>\n",
       "      <td>17</td>\n",
       "      <td>92</td>\n",
       "    </tr>\n",
       "  </tbody>\n",
       "</table>\n",
       "</div>"
      ],
      "text/plain": [
       "Predicted   0   1\n",
       "Actual           \n",
       "0          19  71\n",
       "1          17  92"
      ]
     },
     "execution_count": 29,
     "metadata": {},
     "output_type": "execute_result"
    }
   ],
   "source": [
    "pd.crosstab(y_test, predictions, rownames=[\"Actual\"], colnames=[\"Predicted\"])"
   ]
  },
  {
   "cell_type": "code",
   "execution_count": null,
   "metadata": {},
   "outputs": [],
   "source": []
  }
 ],
 "metadata": {
  "kernelspec": {
   "display_name": "Python 3",
   "language": "python",
   "name": "python3"
  },
  "language_info": {
   "codemirror_mode": {
    "name": "ipython",
    "version": 3
   },
   "file_extension": ".py",
   "mimetype": "text/x-python",
   "name": "python",
   "nbconvert_exporter": "python",
   "pygments_lexer": "ipython3",
   "version": "3.7.3"
  }
 },
 "nbformat": 4,
 "nbformat_minor": 2
}
